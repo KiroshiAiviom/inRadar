{
 "cells": [
  {
   "cell_type": "markdown",
   "id": "67797a80",
   "metadata": {},
   "source": [
    "# S02 — Map-Matching (Safety-Oriented)\n",
    "\n",
    "Привязываем точки к дорожному графу OSM с **проверкой направления**.  \n",
    "Если граф **есть** локально (`artifacts/osm_graph.graphml`) — используем его.  \n",
    "Если нет — скачиваем bbox по данным (нужен интернет), сохраняем для репро."
   ]
  },
  {
   "cell_type": "code",
   "execution_count": null,
   "id": "3b6bf7d3",
   "metadata": {},
   "outputs": [],
   "source": [
    "%run ./S00_setup.ipynb"
   ]
  },
  {
   "cell_type": "code",
   "execution_count": null,
   "id": "6e3aa7fe",
   "metadata": {},
   "outputs": [],
   "source": [
    "# 1) Загрузка исходных данных\n",
    "read_kwargs = dict(sep=\",\", engine=\"c\",\n",
    "                   dtype={\"randomized_id\":\"int64\",\"lat\":\"float64\",\"lng\":\"float64\",\"alt\":\"float64\",\"spd\":\"float64\",\"azm\":\"float64\"},\n",
    "                   header=0)\n",
    "try:\n",
    "    sample = pd.read_csv(DATA_PATH, nrows=5, **read_kwargs)\n",
    "    exp = [\"randomized_id\",\"lat\",\"lng\",\"alt\",\"spd\",\"azm\"]\n",
    "    if list(sample.columns[:6]) != exp:\n",
    "        read_kwargs.update({\"header\":None,\"names\":exp})\n",
    "except Exception:\n",
    "    read_kwargs.update({\"header\":None,\"names\":[\"randomized_id\",\"lat\",\"lng\",\"alt\",\"spd\",\"azm\"]})\n",
    "df = pd.read_csv(DATA_PATH, **read_kwargs)\n",
    "print(\"Loaded:\", df.shape)"
   ]
  },
  {
   "cell_type": "code",
   "execution_count": null,
   "id": "03206e8b",
   "metadata": {},
   "outputs": [],
   "source": [
    "# 2) Определение bbox по данным\n",
    "lat_min, lat_max = df[\"lat\"].min(), df[\"lat\"].max()\n",
    "lng_min, lng_max = df[\"lng\"].min(), df[\"lng\"].max()\n",
    "pad = 0.003  # небольшой запас\n",
    "bbox = (lat_max+pad, lat_min-pad, lng_max+pad, lng_min-pad)  # (north, south, east, west)\n",
    "print(\"BBox:\", bbox)"
   ]
  },
  {
   "cell_type": "code",
   "execution_count": null,
   "id": "9d5898a1",
   "metadata": {},
   "outputs": [],
   "source": [
    "# 3) Загрузка/скачивание OSM графа\n",
    "if ox is None:\n",
    "    print(\"osmnx не установлен. Для полного map-matching установите osmnx и перезапустите.\")\n",
    "else:\n",
    "    if GRAPH_PATH.exists():\n",
    "        G = ox.load_graphml(GRAPH_PATH)\n",
    "        print(\"Граф загружен из\", GRAPH_PATH)\n",
    "    else:\n",
    "        print(\"Граф не найден локально. Пытаемся скачать с OSM (требуется интернет)...\")\n",
    "        G = ox.graph_from_bbox(bbox=bbox, simplify=True, network_type=\"drive\")\n",
    "        ox.save_graphml(G, GRAPH_PATH)\n",
    "        print(\"Сохранён:\", GRAPH_PATH)\n",
    "\n",
    "    # Подготовка удобных структур\n",
    "    G_und = ox.convert.to_undirected(G)\n",
    "    # Создадим GeoDataFrames (если доступен geopandas)\n",
    "    edges_gdf = ox.graph_to_gdfs(G, nodes=False, edges=True)\n",
    "    nodes_gdf = ox.graph_to_gdfs(G, nodes=True, edges=False)\n",
    "    print(\"Edges:\", edges_gdf.shape, \"Nodes:\", nodes_gdf.shape)"
   ]
  },
  {
   "cell_type": "code",
   "execution_count": null,
   "id": "48566c62",
   "metadata": {},
   "outputs": [],
   "source": [
    "# 4) Map-matching: для каждой точки — ближайшее ребро + проверка направления\n",
    "if ox is not None:\n",
    "    from shapely.geometry import Point\n",
    "    import numpy as np\n",
    "\n",
    "    # Преобразуем точки в список\n",
    "    pts = list(zip(df[\"lng\"].values, df[\"lat\"].values))\n",
    "    # Находим ближайшие ребра (u,v,key) по координатам\n",
    "    # osmnx 1.x: nearest_edges(G, X, Y, return_dist=True)\n",
    "    ne = ox.distance.nearest_edges(G, X=[p[0] for p in pts], Y=[p[1] for p in pts], return_dist=True)\n",
    "    uvk_list, dist_list = ne[0], ne[1]\n",
    "\n",
    "    # Функция: азимут ребра в ближайшей к точке позиции (приближение: берем общий азимут linestring)\n",
    "    def edge_bearing(row):\n",
    "        geom = row.geometry\n",
    "        try:\n",
    "            x0,y0 = geom.coords[0]\n",
    "            x1,y1 = geom.coords[-1]\n",
    "            return bearing_deg(y0,x0,y1,x1)\n",
    "        except Exception:\n",
    "            return np.nan\n",
    "\n",
    "    edges_gdf[\"edge_bearing\"] = edges_gdf.apply(edge_bearing, axis=1)\n",
    "    edges_gdf[\"highway\"] = edges_gdf[\"highway\"].apply(lambda x: x[0] if isinstance(x, (list, tuple)) and x else x)\n",
    "    edges_gdf[\"oneway\"] = edges_gdf[\"oneway\"].fillna(False).astype(bool)\n",
    "\n",
    "    # Собираем таблицу соответствий\n",
    "    mm = pd.DataFrame({\n",
    "        \"randomized_id\": df[\"randomized_id\"].values,\n",
    "        \"lat\": df[\"lat\"].values,\n",
    "        \"lng\": df[\"lng\"].values,\n",
    "        \"alt\": df[\"alt\"].values,\n",
    "        \"spd\": df[\"spd\"].values,\n",
    "        \"azm\": df[\"azm\"].values,\n",
    "        \"u\": [uvk[0] for uvk in uvk_list],\n",
    "        \"v\": [uvk[1] for uvk in uvk_list],\n",
    "        \"key\": [uvk[2] for uvk in uvk_list],\n",
    "        \"dist2edge\": dist_list\n",
    "    })\n",
    "\n",
    "    # Мержим с атрибутами ребра\n",
    "    edges_key = edges_gdf.reset_index()[[\"u\",\"v\",\"key\",\"highway\",\"oneway\",\"edge_bearing\",\"length\"]]\n",
    "    mm = mm.merge(edges_key, on=[\"u\",\"v\",\"key\"], how=\"left\")\n",
    "\n",
    "    # Угловое несоответствие\n",
    "    mm[\"bearing_dev\"] = np.abs(((mm[\"azm\"] - mm[\"edge_bearing\"] + 180) % 360) - 180)\n",
    "    mm[\"match_ok\"] = (mm[\"bearing_dev\"] <= CONFIG[\"ANGLE_TOL_DEG\"])\n",
    "\n",
    "    # Примерные расстояния до узлов: до ближайшего узла по геодезии\n",
    "    # (более точно можно проецировать на линию и мерить до узлов; оставим приближение)\n",
    "    # Выберем ближайший узел к точке:\n",
    "    nn = ox.distance.nearest_nodes(G, X=mm[\"lng\"].values, Y=mm[\"lat\"].values, return_dist=True)\n",
    "    mm[\"dist2node\"] = nn[1]\n",
    "\n",
    "    if \"geometry\" in mm.columns:\n",
    "        mm = mm.drop(columns=[\"geometry\"])\n",
    "\n",
    "    # Приведем типы и сохраним\n",
    "    mm.to_parquet(MATCHED_PARQUET, index=False, engine=\"pyarrow\")\n",
    "    print(\"Saved matched points to:\", MATCHED_PARQUET)\n",
    "else:\n",
    "    print(\"Пропускаем map-matching: osmnx не установлен. Дальше будут доступны H3-агрегации.\")"
   ]
  }
 ],
 "metadata": {
  "kernelspec": {
   "display_name": ".venv",
   "language": "python",
   "name": "python3"
  },
  "language_info": {
   "codemirror_mode": {
    "name": "ipython",
    "version": 3
   },
   "file_extension": ".py",
   "mimetype": "text/x-python",
   "name": "python",
   "nbconvert_exporter": "python",
   "pygments_lexer": "ipython3",
   "version": "3.13.2"
  }
 },
 "nbformat": 4,
 "nbformat_minor": 5
}
