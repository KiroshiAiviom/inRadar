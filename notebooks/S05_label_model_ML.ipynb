{
 "cells": [
  {
   "cell_type": "markdown",
   "id": "0a260361",
   "metadata": {},
   "source": [
    "# S05 — Weak Supervision Label Model + LightGBM\n",
    "\n",
    "Объединяем правила детекторов в **Label Model** (pseudo‑labels) и обучаем **LightGBM** для\n",
    "прогноза риска на **edge/hex**. Валидация — **spatial k‑fold** (H3)."
   ]
  },
  {
   "cell_type": "code",
   "execution_count": null,
   "id": "451233bc",
   "metadata": {},
   "outputs": [],
   "source": [
    "%run ./S00_setup.ipynb"
   ]
  },
  {
   "cell_type": "code",
   "execution_count": null,
   "id": "0cc0031f",
   "metadata": {},
   "outputs": [],
   "source": [
    "# 1) Загрузка фич и событий\n",
    "edge_df = pd.read_parquet(EDGE_FEATURES_PARQUET) if EDGE_FEATURES_PARQUET.exists() else None\n",
    "events_edge = pd.read_parquet(EVENTS_EDGE_PARQUET) if EVENTS_EDGE_PARQUET.exists() else None\n",
    "print(\"edge_df:\", None if edge_df is None else edge_df.shape)\n",
    "print(\"events_edge:\", None if events_edge is None else events_edge.shape)\n",
    "\n",
    "if edge_df is None or events_edge is None:\n",
    "    raise SystemExit(\"Нужны EDGE_FEATURES и EVENTS_EDGE. Запустите S03 и S04.\")"
   ]
  },
  {
   "cell_type": "code",
   "execution_count": null,
   "id": "15848c87",
   "metadata": {},
   "outputs": [],
   "source": [
    "# 2) Label Model: из событий строим pseudo‑labels\n",
    "# Pseudo score = sum_i w_i * (k_i / n_obs), затем бинаризация по порогу\n",
    "w = CONFIG[\"SRI_WEIGHTS\"]\n",
    "ev = events_edge.copy()\n",
    "ev[\"risk_sum\"] = 0.0\n",
    "for r in REASONS:\n",
    "    if r in ev.columns:\n",
    "        ev[\"risk_sum\"] += w.get(r,1.0) * (ev[r] / ev[\"n_obs\"].replace(0,np.nan))\n",
    "ev[\"pseudo_label\"] = (ev[\"risk_sum\"] > ev[\"risk_sum\"].quantile(0.7)).astype(int)  # верхние 30% считаем risk=1\n",
    "ev_pl = ev[[\"u\",\"v\",\"key\",\"pseudo_label\",\"risk_sum\",\"n_obs\",\"n_ids\"]]\n",
    "print(ev_pl[\"pseudo_label\"].value_counts(normalize=True))"
   ]
  },
  {
   "cell_type": "code",
   "execution_count": null,
   "id": "0906a12f",
   "metadata": {},
   "outputs": [],
   "source": [
    "# 3) Merge features + labels\n",
    "X = edge_df.merge(ev_pl, on=[\"u\",\"v\",\"key\"], how=\"inner\")\n",
    "print(\"Train table:\", X.shape)\n",
    "feature_cols = [\"n_obs\",\"n_ids\",\"p50_spd\",\"p85_spd\",\"p95_spd\",\"stop_rate\",\"bearing_dev_mean\",\"dist2node_med\",\"freeflow\",\"congestion\"]\n",
    "feature_cols = [c for c in feature_cols if c in X.columns]\n",
    "target_col = \"pseudo_label\""
   ]
  },
  {
   "cell_type": "code",
   "execution_count": null,
   "id": "8514f111",
   "metadata": {},
   "outputs": [],
   "source": [
    "# 4) Spatial k-fold: H3 по центру ребра (приближённо — если геометрия доступна в EDGE_FEATURES нет,\n",
    "# возьмем surrogate по p50_spd и dist2node; для простоты сделаем случайный split с фикс.seed,\n",
    "# а в прод-версии заменить на H3 по геометрии ребра)\n",
    "from sklearn.model_selection import StratifiedKFold\n",
    "from sklearn.metrics import roc_auc_score, average_precision_score, brier_score_loss\n",
    "\n",
    "skf = StratifiedKFold(n_splits=5, shuffle=True, random_state=42)\n",
    "y = X[target_col].values\n",
    "import numpy as np\n",
    "scores = []\n",
    "pred_oof = np.zeros(len(X))\n",
    "\n",
    "try:\n",
    "    import lightgbm as lgb\n",
    "except Exception:\n",
    "    lgb = None\n",
    "\n",
    "if lgb is None:\n",
    "    print(\"LightGBM не установлен — установите пакет и перезапустите для обучения модели.\")\n",
    "else:\n",
    "    for fold, (tr, va) in enumerate(skf.split(X[feature_cols], y)):\n",
    "        train_set = lgb.Dataset(X.loc[tr, feature_cols], label=y[tr])\n",
    "        valid_set = lgb.Dataset(X.loc[va, feature_cols], label=y[va])\n",
    "        params = {\n",
    "            \"objective\":\"binary\",\n",
    "            \"metric\":[\"auc\",\"binary_logloss\"],\n",
    "            \"learning_rate\":0.05,\n",
    "            \"num_leaves\":31,\n",
    "            \"feature_fraction\":0.8,\n",
    "            \"bagging_fraction\":0.8,\n",
    "            \"bagging_freq\":1,\n",
    "            \"seed\":42,\n",
    "            \"verbose\":-1\n",
    "        }\n",
    "        model = lgb.train(params, train_set, valid_sets=[valid_set], num_boost_round=150, callbacks=[lgb.early_stopping(stopping_rounds=30), lgb.log_evaluation(period=50)])\n",
    "        prob = model.predict(X.loc[va, feature_cols], num_iteration=model.best_iteration)\n",
    "        pred_oof[va] = prob\n",
    "        auc = roc_auc_score(y[va], prob)\n",
    "        ap  = average_precision_score(y[va], prob)\n",
    "        print(f\"Fold {fold}: AUC={auc:.3f} AP={ap:.3f}\")\n",
    "        scores.append((auc, ap))\n",
    "\n",
    "    print(\"CV mean AUC/AP:\", np.mean([s[0] for s in scores]), np.mean([s[1] for s in scores]))\n",
    "    X[\"ml_prob\"] = pred_oof\n",
    "    X[[\"u\",\"v\",\"key\",\"ml_prob\"]].to_parquet(ML_EDGE_PRED_PARQUET, index=False)\n",
    "    print(\"Saved:\", ML_EDGE_PRED_PARQUET)"
   ]
  }
 ],
 "metadata": {
  "kernelspec": {
   "display_name": ".venv",
   "language": "python",
   "name": "python3"
  },
  "language_info": {
   "codemirror_mode": {
    "name": "ipython",
    "version": 3
   },
   "file_extension": ".py",
   "mimetype": "text/x-python",
   "name": "python",
   "nbconvert_exporter": "python",
   "pygments_lexer": "ipython3",
   "version": "3.13.2"
  }
 },
 "nbformat": 4,
 "nbformat_minor": 5
}
