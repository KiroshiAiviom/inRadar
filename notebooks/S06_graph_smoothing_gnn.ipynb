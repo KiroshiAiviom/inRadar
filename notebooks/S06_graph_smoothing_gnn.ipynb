{
 "cells": [
  {
   "cell_type": "markdown",
   "id": "3745f661",
   "metadata": {},
   "source": [
    "# S06 — Graph Smoothing & (Optional) GNN\n",
    "\n",
    "Сглаживаем риск по дорожной сети (**лаплассиан**) и опционально обучаем **GraphSAGE**\n",
    "для распространения на мало‑покрытые рёбра."
   ]
  },
  {
   "cell_type": "code",
   "execution_count": null,
   "id": "042e5cc4",
   "metadata": {},
   "outputs": [],
   "source": [
    "%run ./S00_setup.ipynb"
   ]
  },
  {
   "cell_type": "code",
   "execution_count": null,
   "id": "5aac6141",
   "metadata": {},
   "outputs": [],
   "source": [
    "# 1) Загрузка: edge features + EB/ML\n",
    "edge_df = pd.read_parquet(EDGE_FEATURES_PARQUET) if EDGE_FEATURES_PARQUET.exists() else None\n",
    "events_edge = pd.read_parquet(EVENTS_EDGE_PARQUET) if EVENTS_EDGE_PARQUET.exists() else None\n",
    "ml_edge = pd.read_parquet(ML_EDGE_PRED_PARQUET) if ML_EDGE_PRED_PARQUET.exists() else None\n",
    "print([e.shape if e is not None else None for e in [edge_df, events_edge, ml_edge]])\n",
    "if edge_df is None or events_edge is None:\n",
    "    raise SystemExit(\"Нужны EDGE_FEATURES и EVENTS_EDGE. Запустите S03 и S04.\")"
   ]
  },
  {
   "cell_type": "code",
   "execution_count": null,
   "id": "a7b98c99",
   "metadata": {},
   "outputs": [],
   "source": [
    "# 2) Базовый риск из правил: r = sum w_i * (k_i / n_obs)\n",
    "w = CONFIG[\"SRI_WEIGHTS\"]\n",
    "ev = events_edge.copy()\n",
    "ev[\"base_risk\"] = 0.0\n",
    "for r in REASONS:\n",
    "    if r in ev.columns:\n",
    "        ev[\"base_risk\"] += w.get(r,1.0) * (ev[r] / ev[\"n_obs\"].replace(0,np.nan))\n",
    "base = edge_df.drop(columns=[\"n_obs\"], errors=\"ignore\").merge(ev[[\"u\",\"v\",\"key\",\"base_risk\",\"n_obs\"]], on=[\"u\",\"v\",\"key\"], how=\"left\")\n",
    "if ml_edge is not None:\n",
    "    base = base.merge(ml_edge, on=[\"u\",\"v\",\"key\"], how=\"left\")\n",
    "    base[\"base_risk\"] = 0.7*base[\"base_risk\"].fillna(0) + 0.3*base[\"ml_prob\"].fillna(0)\n",
    "\n",
    "base[\"base_risk\"] = base[\"base_risk\"].fillna(0)"
   ]
  },
  {
   "cell_type": "code",
   "execution_count": null,
   "id": "6b01d0d8",
   "metadata": {},
   "outputs": [],
   "source": [
    "# 3) Графовое сглаживание (без scipy — итеративная аппроксимация)\n",
    "if ox is not None and GRAPH_PATH.exists():\n",
    "    G = ox.load_graphml(GRAPH_PATH)\n",
    "    # Построим индекс ребер -> id\n",
    "    edge_index = {}\n",
    "    idx = 0\n",
    "    neighbors = {}\n",
    "    for u,v,k,data in G.edges(keys=True, data=True):\n",
    "        edge_index[(u,v,k)] = idx\n",
    "        neighbors[idx] = set()\n",
    "        idx += 1\n",
    "    # Соседство: рёбра, смежные через общую вершину\n",
    "    for u in G.nodes():\n",
    "        out_edges = list(G.edges(u, keys=True))\n",
    "        indices = [edge_index[e] for e in out_edges if e in edge_index]\n",
    "        for i in indices:\n",
    "            neighbors[i].update(indices)\n",
    "            if i in neighbors[i]:\n",
    "                neighbors[i].remove(i)\n",
    "    # Вектор base_risk в порядке edge_index\n",
    "    base = base.copy()\n",
    "    base[\"eid\"] = [edge_index.get((row[\"u\"],row[\"v\"],row[\"key\"]), -1) for _,row in base.iterrows()]\n",
    "    base = base[base[\"eid\"]>=0]\n",
    "    v = np.zeros(len(neighbors), dtype=float)\n",
    "    for _,row in base.iterrows():\n",
    "        v[int(row[\"eid\"])] = float(row[\"base_risk\"])\n",
    "    # Сглаживание\n",
    "    v_sm = iterative_neighbor_smoothing(v, neighbors, lam=CONFIG[\"GRAPH_LAMBDA\"], n_iter=12)\n",
    "    base[\"risk_smoothed\"] = [v_sm[int(e)] for e in base[\"eid\"]]\n",
    "else:\n",
    "    print(\"Нет графа OSM — используем несглаженный риск.\")\n",
    "    base[\"risk_smoothed\"] = base[\"base_risk\"]"
   ]
  },
  {
   "cell_type": "code",
   "execution_count": null,
   "id": "fd743756",
   "metadata": {},
   "outputs": [],
   "source": [
    "# 4) Итоговый SRI 0–100 (сигмоида + калибровка квантилями)\n",
    "x = base[\"risk_smoothed\"].fillna(0).values\n",
    "x = (x - np.nanmedian(x)) / (np.nanstd(x) + 1e-6)\n",
    "sri = 100.0 / (1.0 + np.exp(-x))\n",
    "base[\"SRI\"] = sri\n",
    "\n",
    "# Экспорт\n",
    "base_out = base[[\"u\",\"v\",\"key\",\"SRI\",\"risk_smoothed\",\"base_risk\",\"n_obs\"]].copy()\n",
    "base_out.to_parquet(SRI_EDGE_PARQUET, index=False)\n",
    "print(\"Saved:\", SRI_EDGE_PARQUET)"
   ]
  }
 ],
 "metadata": {
  "kernelspec": {
   "display_name": ".venv",
   "language": "python",
   "name": "python3"
  },
  "language_info": {
   "codemirror_mode": {
    "name": "ipython",
    "version": 3
   },
   "file_extension": ".py",
   "mimetype": "text/x-python",
   "name": "python",
   "nbconvert_exporter": "python",
   "pygments_lexer": "ipython3",
   "version": "3.13.2"
  }
 },
 "nbformat": 4,
 "nbformat_minor": 5
}
