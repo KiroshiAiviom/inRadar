{
 "cells": [
  {
   "cell_type": "markdown",
   "id": "4b947685",
   "metadata": {},
   "source": [
    "# S01 — EDA: inDrive Geotracks (Astana)\n",
    "\n",
    "Этот ноутбук выполняет полный первичный анализ данных геотреков:\n",
    "- загрузка и базовая проверка качества,\n",
    "- описательная статистика,\n",
    "- пространственные визуализации (scatter/hexbin),\n",
    "- распределения скорости/высоты,\n",
    "- анализ направлений (азимут)."
   ]
  },
  {
   "cell_type": "code",
   "execution_count": null,
   "id": "1a062300",
   "metadata": {},
   "outputs": [],
   "source": [
    "# --- Imports & setup ---\n",
    "import os, math\n",
    "from pathlib import Path\n",
    "import numpy as np\n",
    "import pandas as pd\n",
    "import matplotlib.pyplot as plt\n",
    "\n",
    "# Настройки matplotlib\n",
    "plt.rcParams[\"figure.dpi\"] = 150\n",
    "\n",
    "# Путь к данным\n",
    "DATA_PATH = \"../data/raw/geo_locations_astana_hackathon\"  # при необходимости замените на абсолютный\n",
    "print(\"Using data from:\", DATA_PATH)\n",
    "\n",
    "# Чтение данных\n",
    "read_kwargs = dict(\n",
    "    sep=\",\",\n",
    "    engine=\"c\",\n",
    "    dtype={\n",
    "        \"randomized_id\": \"int64\",\n",
    "        \"lat\": \"float64\",\n",
    "        \"lng\": \"float64\",\n",
    "        \"alt\": \"float64\",\n",
    "        \"spd\": \"float64\",\n",
    "        \"azm\": \"float64\",\n",
    "    },\n",
    "    header=0,\n",
    ")\n",
    "try:\n",
    "    sample = pd.read_csv(DATA_PATH, nrows=10, **read_kwargs)\n",
    "    exp = [\"randomized_id\",\"lat\",\"lng\",\"alt\",\"spd\",\"azm\"]\n",
    "    if list(sample.columns[:6]) != exp:\n",
    "        read_kwargs.update({\"header\": None, \"names\": exp})\n",
    "except Exception:\n",
    "    exp = [\"randomized_id\",\"lat\",\"lng\",\"alt\",\"spd\",\"azm\"]\n",
    "    read_kwargs.update({\"header\": None, \"names\": exp})\n",
    "\n",
    "df = pd.read_csv(DATA_PATH, **read_kwargs)\n",
    "df.head(3)"
   ]
  },
  {
   "cell_type": "markdown",
   "id": "7048e210",
   "metadata": {},
   "source": [
    "## 1. Shape, memory, missing, duplicates"
   ]
  },
  {
   "cell_type": "code",
   "execution_count": null,
   "id": "54aa0d8b",
   "metadata": {},
   "outputs": [],
   "source": [
    "n_rows, n_cols = df.shape\n",
    "memory_mb = df.memory_usage(deep=True).sum() / (1024**2)\n",
    "print(f\"Rows: {n_rows:,}  |  Cols: {n_cols}  |  Memory: {memory_mb:.2f} MB\")\n",
    "\n",
    "missing = df.isna().sum().rename(\"missing\")\n",
    "dups = df.duplicated().sum()\n",
    "display(missing.to_frame())\n",
    "print(\"Duplicate full rows:\", dups)"
   ]
  },
  {
   "cell_type": "markdown",
   "id": "83046162",
   "metadata": {},
   "source": [
    "## 2. Basic ranges and sanity checks"
   ]
  },
  {
   "cell_type": "code",
   "execution_count": null,
   "id": "a92a93ea",
   "metadata": {},
   "outputs": [],
   "source": [
    "lat_min, lat_max = df[\"lat\"].min(), df[\"lat\"].max()\n",
    "lng_min, lng_max = df[\"lng\"].min(), df[\"lng\"].max()\n",
    "print(f\"Latitude range: [{lat_min:.6f}, {lat_max:.6f}]\")\n",
    "print(f\"Longitude range: [{lng_min:.6f}, {lng_max:.6f}]\")\n",
    "\n",
    "neg_speed = int((df[\"spd\"] < 0).sum())\n",
    "high_speed = int((df[\"spd\"] > 60).sum())  # >60 m/s sanity\n",
    "invalid_lat = int(((df[\"lat\"] < -90) | (df[\"lat\"] > 90)).sum())\n",
    "invalid_lng = int(((df[\"lng\"] < -180) | (df[\"lng\"] > 180)).sum())\n",
    "invalid_azm = int(((df[\"azm\"] < 0) | (df[\"azm\"] >= 360)).sum())\n",
    "\n",
    "print(\"Negative speeds:\", neg_speed)\n",
    "print(\"Speeds > 60 m/s:\", high_speed)\n",
    "print(\"Invalid lat:\", invalid_lat, \" | Invalid lng:\", invalid_lng, \" | Invalid azm:\", invalid_azm)"
   ]
  },
  {
   "cell_type": "markdown",
   "id": "15b38b3e",
   "metadata": {},
   "source": [
    "## 3. Descriptive stats (altitude, speed, azimuth)"
   ]
  },
  {
   "cell_type": "code",
   "execution_count": null,
   "id": "fd4deb2c",
   "metadata": {},
   "outputs": [],
   "source": [
    "def describe_series(s):\n",
    "    q = s.quantile([0.01,0.05,0.25,0.5,0.75,0.95,0.99])\n",
    "    return pd.Series({\n",
    "        \"min\": s.min(),\n",
    "        \"p01\": q.loc[0.01],\n",
    "        \"p05\": q.loc[0.05],\n",
    "        \"p25\": q.loc[0.25],\n",
    "        \"p50\": q.loc[0.5],\n",
    "        \"p75\": q.loc[0.75],\n",
    "        \"p95\": q.loc[0.95],\n",
    "        \"p99\": q.loc[0.99],\n",
    "        \"max\": s.max(),\n",
    "        \"mean\": s.mean(),\n",
    "        \"std\": s.std(),\n",
    "    })\n",
    "\n",
    "display(describe_series(df[\"alt\"]).to_frame(\"alt\"))\n",
    "display(describe_series(df[\"spd\"]).to_frame(\"spd\"))\n",
    "display(describe_series((df[\"azm\"]%360)).to_frame(\"azm\"))"
   ]
  },
  {
   "cell_type": "markdown",
   "id": "2965423c",
   "metadata": {},
   "source": [
    "## 4. Points per randomized_id"
   ]
  },
  {
   "cell_type": "code",
   "execution_count": null,
   "id": "e1df764d",
   "metadata": {},
   "outputs": [],
   "source": [
    "id_counts = df[\"randomized_id\"].value_counts(dropna=False)\n",
    "summary = pd.Series({\n",
    "    \"unique_ids\": id_counts.shape[0],\n",
    "    \"min\": id_counts.min(),\n",
    "    \"p25\": id_counts.quantile(0.25),\n",
    "    \"median\": id_counts.quantile(0.5),\n",
    "    \"p75\": id_counts.quantile(0.75),\n",
    "    \"p95\": id_counts.quantile(0.95),\n",
    "    \"max\": id_counts.max(),\n",
    "})\n",
    "display(summary.to_frame(\"points_per_id\"))\n",
    "id_counts.head(10).rename_axis(\"randomized_id\").to_frame(\"points\").head(10)"
   ]
  },
  {
   "cell_type": "markdown",
   "id": "e4b18db7",
   "metadata": {},
   "source": [
    "## 5. Spatial visuals (scatter & hexbin)"
   ]
  },
  {
   "cell_type": "code",
   "execution_count": null,
   "id": "4dee0f06",
   "metadata": {},
   "outputs": [],
   "source": [
    "import matplotlib.pyplot as plt\n",
    "\n",
    "# 5.1 Scatter sample\n",
    "plt.figure(figsize=(64,64))\n",
    "sample_n = min(len(df), 1200000)\n",
    "sample_df = df.sample(n=sample_n, random_state=42) if len(df) > sample_n else df\n",
    "plt.scatter(sample_df[\"lng\"], sample_df[\"lat\"], s=2)\n",
    "plt.xlabel(\"Longitude\", fontsize = 64); plt.ylabel(\"Latitude\", fontsize = 64); plt.title(\"Scatter of Coordinates (sample)\")\n",
    "plt.tick_params(axis='x', labelsize=48)\n",
    "plt.tick_params(axis='y', labelsize=48)\n",
    "plt.show()\n",
    "\n",
    "# 5.2 Hexbin density (log)\n",
    "plt.figure(figsize=(75,75))\n",
    "hb = plt.hexbin(df[\"lng\"].values, df[\"lat\"].values, gridsize=1300, bins=\"log\")\n",
    "plt.xlabel(\"Longitude\", fontsize = 64); plt.ylabel(\"Latitude\", fontsize = 64); plt.title(\"Spatial Density (hexbin, log scale)\")\n",
    "plt.tick_params(axis='x', labelsize=48)\n",
    "plt.tick_params(axis='y', labelsize=48)\n",
    "plt.show()"
   ]
  },
  {
   "cell_type": "markdown",
   "id": "00c453f4",
   "metadata": {},
   "source": [
    "## 6. Distributions: speed & altitude (clipped 1–99%)"
   ]
  },
  {
   "cell_type": "code",
   "execution_count": null,
   "id": "69720d2d",
   "metadata": {},
   "outputs": [],
   "source": [
    "plt.figure(figsize=(7,4))\n",
    "spd_clip = df[\"spd\"].clip(lower=df[\"spd\"].quantile(0.01), upper=df[\"spd\"].quantile(0.99))\n",
    "plt.hist(spd_clip, bins=80)\n",
    "plt.xlabel(\"Speed (m/s) [clipped 1–99%]\"); plt.ylabel(\"Count\"); plt.title(\"Speed Distribution (clipped)\")\n",
    "plt.show()\n",
    "\n",
    "plt.figure(figsize=(7,4))\n",
    "alt_clip = df[\"alt\"].clip(lower=df[\"alt\"].quantile(0.01), upper=df[\"alt\"].quantile(0.99))\n",
    "plt.hist(alt_clip, bins=80)\n",
    "plt.xlabel(\"Altitude (m) [clipped 1–99%]\"); plt.ylabel(\"Count\"); plt.title(\"Altitude Distribution (clipped)\")\n",
    "plt.show()"
   ]
  },
  {
   "cell_type": "markdown",
   "id": "501a97ee",
   "metadata": {},
   "source": [
    "## 7. Direction analysis (Azimuth rose)"
   ]
  },
  {
   "cell_type": "code",
   "execution_count": null,
   "id": "99c026fe",
   "metadata": {},
   "outputs": [],
   "source": [
    "az = (df[\"azm\"] % 360).values\n",
    "theta = np.deg2rad(az)\n",
    "plt.figure(figsize=(6,6))\n",
    "ax = plt.subplot(111, polar=True)\n",
    "n_bins = 36\n",
    "counts, bin_edges = np.histogram(theta, bins=n_bins, range=(0, 2*np.pi))\n",
    "width = (2*np.pi) / n_bins\n",
    "centers = (bin_edges[:-1] + bin_edges[1:]) / 2.0\n",
    "ax.bar(centers, counts, width=width, bottom=0.0)\n",
    "ax.set_title(\"Azimuth Rose (direction histogram)\")\n",
    "plt.show()"
   ]
  }
 ],
 "metadata": {
  "kernelspec": {
   "display_name": ".venv",
   "language": "python",
   "name": "python3"
  },
  "language_info": {
   "codemirror_mode": {
    "name": "ipython",
    "version": 3
   },
   "file_extension": ".py",
   "mimetype": "text/x-python",
   "name": "python",
   "nbconvert_exporter": "python",
   "pygments_lexer": "ipython3",
   "version": "3.13.2"
  }
 },
 "nbformat": 4,
 "nbformat_minor": 5
}
