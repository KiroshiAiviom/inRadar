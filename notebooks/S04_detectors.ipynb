{
 "cells": [
  {
   "cell_type": "markdown",
   "id": "27bb9b66",
   "metadata": {},
   "source": [
    "# S04 — Rule-based Detectors & Event Aggregation\n",
    "\n",
    "Реализуем набор **детекторов безопасности** (WWO, ILS, UUT, HBR, HCT, GLD), \n",
    "агрегируем события по **edge/hex**, применяем **Empirical Bayes** сглаживание."
   ]
  },
  {
   "cell_type": "code",
   "execution_count": null,
   "id": "d63d87f5",
   "metadata": {},
   "outputs": [],
   "source": [
    "%run ./S00_setup.ipynb"
   ]
  },
  {
   "cell_type": "code",
   "execution_count": null,
   "id": "dfd4be32",
   "metadata": {},
   "outputs": [],
   "source": [
    "# 1) Загрузка фич\n",
    "pt = pd.read_parquet(POINT_FEATURES_PARQUET) if POINT_FEATURES_PARQUET.exists() else None\n",
    "edge_df = pd.read_parquet(EDGE_FEATURES_PARQUET) if EDGE_FEATURES_PARQUET.exists() else None\n",
    "hex_df = pd.read_parquet(HEX_FEATURES_PARQUET) if HEX_FEATURES_PARQUET.exists() else None\n",
    "mm = pd.read_parquet(MATCHED_PARQUET) if MATCHED_PARQUET.exists() else None\n",
    "\n",
    "print(\"Loaded point:\", None if pt is None else pt.shape)\n",
    "print(\"Loaded edge:\", None if edge_df is None else edge_df.shape)\n",
    "print(\"Loaded hex:\", None if hex_df is None else hex_df.shape)"
   ]
  },
  {
   "cell_type": "code",
   "execution_count": null,
   "id": "67a4025c",
   "metadata": {},
   "outputs": [],
   "source": [
    "# 2) Объединение point + edge контекста (если есть)\n",
    "if pt is not None and mm is not None:\n",
    "    cols = [\"u\",\"v\",\"key\",\"highway\",\"oneway\",\"edge_bearing\",\"dist2edge\",\"dist2node\",\"length\"]\n",
    "    pt2 = pt.drop(columns=cols, errors=\"ignore\").join(mm[cols], how=\"left\")\n",
    "else:\n",
    "    pt2 = pt.copy() if pt is not None else None"
   ]
  },
  {
   "cell_type": "code",
   "execution_count": null,
   "id": "a32de554",
   "metadata": {},
   "outputs": [],
   "source": [
    "# 3) Детекторы на точечном уровне (reason flags)\n",
    "if pt2 is not None:\n",
    "    C = CONFIG\n",
    "    # Wrong-Way (на односторонних дорогах)\n",
    "    pt2[\"is_WWO\"] = (pt2.get(\"oneway\", False)==True) & (pt2[\"bearing_dev\"] > 90.0) & (pt2.get(\"dist2edge\",0) < 5.0) & (pt2[\"alt_residual\"].abs() < C[\"ALT_RESID_THR\"])\n",
    "    # In-Lane Stop\n",
    "    # приближенно возьмем freeflow на ребре из edge_df (мердж по u,v,key)\n",
    "    if edge_df is not None and {\"u\",\"v\",\"key\"}.issubset(pt2.columns):\n",
    "        join_cols = [\"u\",\"v\",\"key\"]\n",
    "        pt2 = pt2.merge(edge_df[join_cols + [\"freeflow\"]], on=join_cols, how=\"left\")\n",
    "        pt2[\"is_ILS\"] = (pt2[\"stop_flag\"]) & (pt2[\"freeflow\"] > C[\"FREEFLOW_EDGE_MS\"]) & (pt2.get(\"dist2node\",0) > C[\"JUNCTION_SAFE_M\"])\n",
    "    else:\n",
    "        pt2[\"freeflow\"] = np.nan\n",
    "        pt2[\"is_ILS\"] = False\n",
    "\n",
    "    # Unsafe U-Turn — приближенно: большие отклонения bearing_dev в радиусе (используем dist2node>)\n",
    "    pt2[\"is_UUT\"] = (pt2.get(\"dist2node\",0) > 30.0) & (pt2[\"bearing_dev\"] > 140.0)\n",
    "\n",
    "    # Harsh Braking — нужен сегмент/пара — если есть 'a_long' из S03, иначе используем суррогат\n",
    "    pt2[\"is_HBR\"] = False\n",
    "    if \"a_long\" in pt2.columns:\n",
    "        pt2[\"is_HBR\"] = pt2[\"a_long\"] < CONFIG[\"HBR_THR\"]\n",
    "\n",
    "    # Harsh Cornering Turn — если есть кривизна или приближённая поперечная\n",
    "    pt2[\"is_HCT\"] = (pt2[\"bearing_dev\"]>45) & (pt2[\"spd_clip\"] > 8.0)\n",
    "\n",
    "    # Ghost-Lane Drift\n",
    "    pt2[\"is_GLD\"] = (pt2.get(\"dist2edge\",0) > CONFIG[\"DIST2EDGE_OFFLANE_M\"]) & (pt2[\"alt_residual\"].abs() < C[\"ALT_RESID_THR\"])\n",
    "else:\n",
    "    print(\"No point features available.\")"
   ]
  },
  {
   "cell_type": "code",
   "execution_count": null,
   "id": "cf0b181e",
   "metadata": {},
   "outputs": [],
   "source": [
    "# 4) Агрегация событий по edge/hex\n",
    "def agg_events(df, key_cols):\n",
    "    events = {}\n",
    "    n = df.groupby(key_cols).size().rename(\"n_obs\").to_frame()\n",
    "    for reason in REASONS:\n",
    "        flag = f\"is_{reason}\"\n",
    "        if flag in df.columns:\n",
    "            n[reason] = df.groupby(key_cols)[flag].sum()\n",
    "        else:\n",
    "            n[reason] = 0\n",
    "    # k-анонимность: добавим unique IDs (если есть randomized_id)\n",
    "    if \"randomized_id\" in df.columns:\n",
    "        n[\"n_ids\"] = df.groupby(key_cols)[\"randomized_id\"].nunique()\n",
    "    else:\n",
    "        n[\"n_ids\"] = np.nan\n",
    "    n = n.reset_index()\n",
    "    return n\n",
    "\n",
    "events_edge = None\n",
    "events_hex = None\n",
    "if pt2 is not None and {\"u\",\"v\",\"key\"}.issubset(pt2.columns):\n",
    "    events_edge = agg_events(pt2, [\"u\",\"v\",\"key\"])\n",
    "    events_edge.to_parquet(EVENTS_EDGE_PARQUET, index=False)\n",
    "    print(\"Saved:\", EVENTS_EDGE_PARQUET)\n",
    "\n",
    "if pt2 is not None and \"h3\" in pt2.columns and pt2[\"h3\"].notna().any():\n",
    "    events_hex = agg_events(pt2[pt2[\"h3\"].notna()], [\"h3\"])\n",
    "    events_hex.to_parquet(EVENTS_HEX_PARQUET, index=False)\n",
    "    print(\"Saved:\", EVENTS_HEX_PARQUET)"
   ]
  },
  {
   "cell_type": "code",
   "execution_count": null,
   "id": "e6eff10f",
   "metadata": {},
   "outputs": [],
   "source": [
    "# 5) Empirical Bayes сглаживание\n",
    "def eb_table(n_df, unit_key):\n",
    "    rows = []\n",
    "    for reason in REASONS:\n",
    "        a,b = CONFIG[\"EB_PRIORS\"][reason]\n",
    "        k = n_df[reason].values\n",
    "        n = n_df[\"n_obs\"].values\n",
    "        p = eb_posterior(k, n, a, b)\n",
    "        rows.append(pd.DataFrame({unit_key: n_df[unit_key], \"reason\": reason, \"k\":k, \"n\":n, \"p_hat\":p}))\n",
    "    out = pd.concat(rows, ignore_index=True)\n",
    "    return out\n",
    "\n",
    "if events_edge is not None:\n",
    "    eb_edge = eb_table(events_edge, \"u\")\n",
    "    # Используем комбинированный ключ; упростим: соединим ключи в строку\n",
    "    eb_edge = eb_edge.assign(edge_key = events_edge[\"u\"].astype(str)+\"_\"+events_edge[\"v\"].astype(str)+\"_\"+events_edge[\"key\"].astype(str))\n",
    "    eb_edge.to_parquet(EB_EDGE_PARQUET, index=False)\n",
    "    print(\"Saved:\", EB_EDGE_PARQUET)\n",
    "\n",
    "if events_hex is not None:\n",
    "    eb_hex = eb_table(events_hex, \"h3\")\n",
    "    eb_hex.to_parquet(EB_HEX_PARQUET, index=False)\n",
    "    print(\"Saved:\", EB_HEX_PARQUET)"
   ]
  }
 ],
 "metadata": {
  "kernelspec": {
   "display_name": ".venv",
   "language": "python",
   "name": "python3"
  },
  "language_info": {
   "codemirror_mode": {
    "name": "ipython",
    "version": 3
   },
   "file_extension": ".py",
   "mimetype": "text/x-python",
   "name": "python",
   "nbconvert_exporter": "python",
   "pygments_lexer": "ipython3",
   "version": "3.13.2"
  }
 },
 "nbformat": 4,
 "nbformat_minor": 5
}
